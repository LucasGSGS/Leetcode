{
 "cells": [
  {
   "cell_type": "code",
   "execution_count": null,
   "metadata": {},
   "outputs": [],
   "source": [
    "class Solution:\n",
    "    def myAtoi(self, str):\n",
    "        \"\"\"\n",
    "        :type str: str\n",
    "        :rtype: int\n",
    "        \"\"\"\n",
    "        str = str.strip()\n",
    "        number_list = []\n",
    "        sign=''\n",
    "        if(len(str)<=0):\n",
    "            return 0\n",
    "        if(str[0] is '-' or '+'):\n",
    "            sign = str[0]\n",
    "        count = 0\n",
    "\n",
    "        for char in str:\n",
    "\n",
    "            if(char=='+' or char=='-') and len(number_list)>0:\n",
    "                break\n",
    "            if(char=='-' or char=='+'):\n",
    "                count +=1\n",
    "            if(count>=2):\n",
    "                return 0\n",
    "            if (char!='-' and char!='+' and char.isdigit()):\n",
    "                number_list.append(char)\n",
    "            elif(char==' ' or char=='.' or char.isalpha()):\n",
    "                break\n",
    "            elif (char!='-' and char!='+' and char.isdigit()==False):\n",
    "                return 0\n",
    "\n",
    "        print(number_list)\n",
    "        number = 0\n",
    "        for i in range(len(number_list)):\n",
    "            number += int(number_list[i])*10**(len(number_list)-i-1)\n",
    "        if(sign is '-'):\n",
    "            number = -number\n",
    "        \n",
    "        \n",
    "        if number > ((2**31)-1):\n",
    "            return (2**31)-1\n",
    "        elif number < -(2**31):\n",
    "            return -(2**31)\n",
    "        else:\n",
    "            return number"
   ]
  }
 ],
 "metadata": {
  "kernelspec": {
   "display_name": "Python 3",
   "language": "python",
   "name": "python3"
  },
  "language_info": {
   "codemirror_mode": {
    "name": "ipython",
    "version": 3
   },
   "file_extension": ".py",
   "mimetype": "text/x-python",
   "name": "python",
   "nbconvert_exporter": "python",
   "pygments_lexer": "ipython3",
   "version": "3.6.4"
  }
 },
 "nbformat": 4,
 "nbformat_minor": 2
}
