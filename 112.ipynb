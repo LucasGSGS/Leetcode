{
 "cells": [
  {
   "cell_type": "code",
   "execution_count": null,
   "metadata": {},
   "outputs": [],
   "source": [
    "# Definition for a binary tree node.\n",
    "# class TreeNode:\n",
    "#     def __init__(self, x):\n",
    "#         self.val = x\n",
    "#         self.left = None\n",
    "#         self.right = None\n",
    "\n",
    "class Solution:\n",
    "    def hasPathSum(self, root, sum):\n",
    "        \"\"\"\n",
    "        :type root: TreeNode\n",
    "        :type sum: int\n",
    "        :rtype: bool\n",
    "        \"\"\"\n",
    "        if(root is None):\n",
    "            return False\n",
    "        \n",
    "        remaining = sum - root.val\n",
    "        ret = False\n",
    "        if(remaining == 0 and root.left == None and root.right == None):\n",
    "            return True\n",
    "        \n",
    "        if root.left is not None:\n",
    "            ret = ret or self.hasPathSum(root.left, remaining)\n",
    "        if root.right is not None:\n",
    "            ret = ret or self.hasPathSum(root.right, remaining)\n",
    "        \n",
    "        return ret\n",
    "        \n",
    "        "
   ]
  }
 ],
 "metadata": {
  "kernelspec": {
   "display_name": "Python 3",
   "language": "python",
   "name": "python3"
  },
  "language_info": {
   "codemirror_mode": {
    "name": "ipython",
    "version": 3
   },
   "file_extension": ".py",
   "mimetype": "text/x-python",
   "name": "python",
   "nbconvert_exporter": "python",
   "pygments_lexer": "ipython3",
   "version": "3.6.4"
  }
 },
 "nbformat": 4,
 "nbformat_minor": 2
}
