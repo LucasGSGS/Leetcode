{
 "cells": [
  {
   "cell_type": "code",
   "execution_count": 58,
   "metadata": {},
   "outputs": [],
   "source": [
    "class Solution:\n",
    "    def divide(self, dividend, divisor):\n",
    "        \"\"\"\n",
    "        :type dividend: int\n",
    "        :type divisor: int\n",
    "        :rtype: int\n",
    "        \"\"\"\n",
    "        if(dividend == divisor):\n",
    "            return 1\n",
    "        if(dividend == -1*divisor):\n",
    "            return -1\n",
    "\n",
    "        abs_dividend = abs(dividend)\n",
    "        abs_divisor = abs(divisor)\n",
    "        count = 0\n",
    "\n",
    "        while(abs_dividend >= abs_divisor):\n",
    "            temp = abs_divisor\n",
    "            i = 1\n",
    "            while(abs_dividend >= temp):\n",
    "                temp = temp << 1\n",
    "                i = i << 1\n",
    "            temp = temp >> 1\n",
    "            i = i >> 1\n",
    "            abs_dividend = abs_dividend - temp\n",
    "            count = count + i\n",
    "        if(dividend * divisor >= 0):\n",
    "            if(count > 2147483647):\n",
    "                return 2147483647\n",
    "            else:\n",
    "                return count\n",
    "        else:\n",
    "            if(-1*count < -2147483648):\n",
    "                return -2147483648\n",
    "            else:   \n",
    "                return -1*count\n"
   ]
  }
 ],
 "metadata": {
  "kernelspec": {
   "display_name": "Python 3",
   "language": "python",
   "name": "python3"
  },
  "language_info": {
   "codemirror_mode": {
    "name": "ipython",
    "version": 3
   },
   "file_extension": ".py",
   "mimetype": "text/x-python",
   "name": "python",
   "nbconvert_exporter": "python",
   "pygments_lexer": "ipython3",
   "version": "3.6.4"
  }
 },
 "nbformat": 4,
 "nbformat_minor": 2
}
